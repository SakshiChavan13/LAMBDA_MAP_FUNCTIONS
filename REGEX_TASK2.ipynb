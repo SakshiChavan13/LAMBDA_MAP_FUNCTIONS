{
 "cells": [
  {
   "cell_type": "markdown",
   "id": "7c0ad003",
   "metadata": {},
   "source": [
    "# Task - 2\n",
    "## REGISTRATION ID - SIRSS2111\n",
    "## NAME- SAKSHI SUDHAKAR CHAVAN¶\n",
    "\n",
    "\n",
    "### Q1. Write a lambda expression to extract first word of a string."
   ]
  },
  {
   "cell_type": "code",
   "execution_count": 1,
   "id": "9ad69eb2",
   "metadata": {},
   "outputs": [
    {
     "data": {
      "text/plain": [
       "'MY'"
      ]
     },
     "execution_count": 1,
     "metadata": {},
     "output_type": "execute_result"
    }
   ],
   "source": [
    "a = 'MY NAME IS SAKSHI'\n",
    "b = lambda str: str.split()[0]\n",
    "b(a)"
   ]
  },
  {
   "cell_type": "markdown",
   "id": "cbe713b8",
   "metadata": {},
   "source": [
    "### Q2. Write a function to extract first word of s string (with many words separated by space)"
   ]
  },
  {
   "cell_type": "code",
   "execution_count": 2,
   "id": "c7ff389e",
   "metadata": {},
   "outputs": [
    {
     "name": "stdout",
     "output_type": "stream",
     "text": [
      "MY\n"
     ]
    }
   ],
   "source": [
    "def f_name(str):\n",
    "    return str.split()[0]\n",
    "\n",
    "print(f_name(a))"
   ]
  },
  {
   "cell_type": "markdown",
   "id": "0ee3c067",
   "metadata": {},
   "source": [
    "### Q3. Extract the first word from every string from a list of strings by using map function."
   ]
  },
  {
   "cell_type": "code",
   "execution_count": 3,
   "id": "ac3afc11",
   "metadata": {},
   "outputs": [
    {
     "data": {
      "text/plain": [
       "['Vin', 'Michelle', 'Jordana', 'Paul']"
      ]
     },
     "execution_count": 3,
     "metadata": {},
     "output_type": "execute_result"
    }
   ],
   "source": [
    "Li = ['Vin Diesel', 'Michelle Rodriguez', 'Jordana Brewster', 'Paul Walker']\n",
    "list(map(lambda s: s.split()[0], Li))"
   ]
  },
  {
   "cell_type": "markdown",
   "id": "3b5a2ee9",
   "metadata": {},
   "source": [
    "### Q4. Write a function to return a list of prime factors of a given number."
   ]
  },
  {
   "cell_type": "code",
   "execution_count": 4,
   "id": "3ca4b2b6",
   "metadata": {},
   "outputs": [
    {
     "name": "stdout",
     "output_type": "stream",
     "text": [
      "Enter the number: 56\n",
      "[2, 2, 2, 7]\n"
     ]
    }
   ],
   "source": [
    "def prime(x):\n",
    "    factors = []\n",
    "    divisor = 2\n",
    "    while divisor <= x:\n",
    "        if x%divisor == 0:\n",
    "            factors.append(divisor)\n",
    "            x = x/divisor \n",
    "        else:\n",
    "            divisor += 1 \n",
    "    return factors\n",
    "\n",
    "num = input('Enter the number: ')\n",
    "print(prime(int(num)))"
   ]
  },
  {
   "cell_type": "markdown",
   "id": "be892f04",
   "metadata": {},
   "source": [
    "### Q5. Write a function that finds 2nd largest among 4 numbers (Repetitions are allowed, without sorting)."
   ]
  },
  {
   "cell_type": "code",
   "execution_count": 5,
   "id": "92acb76c",
   "metadata": {},
   "outputs": [
    {
     "name": "stdout",
     "output_type": "stream",
     "text": [
      "enter 4 numbers2 4 5 6\n",
      "5\n"
     ]
    }
   ],
   "source": [
    "def max_2(arr):\n",
    "    a = set(arr)\n",
    "    a = list(a)\n",
    "    b = max(a)\n",
    "    a.remove(b)\n",
    "    b = max(a)\n",
    "    return b\n",
    "\n",
    "l = input('enter 4 numbers')\n",
    "l = l.split()\n",
    "l = list(map(int, l))\n",
    "print(max_2(l))"
   ]
  },
  {
   "cell_type": "code",
   "execution_count": null,
   "id": "e6c38571",
   "metadata": {},
   "outputs": [],
   "source": []
  }
 ],
 "metadata": {
  "kernelspec": {
   "display_name": "Python 3",
   "language": "python",
   "name": "python3"
  },
  "language_info": {
   "codemirror_mode": {
    "name": "ipython",
    "version": 3
   },
   "file_extension": ".py",
   "mimetype": "text/x-python",
   "name": "python",
   "nbconvert_exporter": "python",
   "pygments_lexer": "ipython3",
   "version": "3.8.8"
  }
 },
 "nbformat": 4,
 "nbformat_minor": 5
}
